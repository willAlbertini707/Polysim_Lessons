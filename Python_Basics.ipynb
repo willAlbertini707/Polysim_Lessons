{
 "cells": [
  {
   "cell_type": "markdown",
   "id": "9926c81c",
   "metadata": {},
   "source": [
    "# Python Basics\n",
    "\n",
    "This notebook was created to teach the basics of python. Topics covered, but not limited to, will be:\n",
    "\n",
    "- data types\n",
    "- simple data structures\n",
    "- iterables\n",
    "- importing modules\n",
    "- functions\n",
    "\n",
    "## Simple Data Types\n",
    "\n",
    "The basic python data types most commonly used are strings, integers, and floats. There are much more (such as sets, complex, ...etc) but they are not necessary right now. "
   ]
  },
  {
   "cell_type": "code",
   "execution_count": 1,
   "id": "ccce1fad",
   "metadata": {},
   "outputs": [],
   "source": [
    "# example of a string\n",
    "\n",
    "# example of an integer\n",
    "\n",
    "# example of a float\n"
   ]
  },
  {
   "cell_type": "markdown",
   "id": "51086519",
   "metadata": {},
   "source": [
    "Variables do not need \"types\" when declared. Variables point to a range of different values from integers to functions to objects. To display a variable, the built in \"print\" function is used."
   ]
  },
  {
   "cell_type": "code",
   "execution_count": 2,
   "id": "df90b3c8",
   "metadata": {},
   "outputs": [],
   "source": [
    "# print the value of the variable\n",
    "\n",
    "# print the type of the variable\n",
    "\n",
    "# imbed variable into text"
   ]
  },
  {
   "cell_type": "markdown",
   "id": "4b0922b5",
   "metadata": {},
   "source": [
    "Simple operations can be performed with each of these data types"
   ]
  },
  {
   "cell_type": "code",
   "execution_count": 3,
   "id": "7e7f0123",
   "metadata": {},
   "outputs": [],
   "source": [
    "# mathmatic operations\n",
    "\n",
    "# mathmatic operation to concatenate string\n",
    "\n",
    "# built in string methods\n"
   ]
  },
  {
   "cell_type": "markdown",
   "id": "b2d37e43",
   "metadata": {},
   "source": [
    "## Data Structures\n",
    "\n",
    "Data structures are used for storing data. They are assigned to variables with the \"=\" operator, just like in the examples above. The basic structures are strings, lists, tuples, and dictionaries. \n",
    "\n",
    "### Lists\n",
    "\n",
    "A list is ordered so index matters. It an iterable data structure and can be indexed. Python uses zero indexing. List can store all data types including functions."
   ]
  },
  {
   "cell_type": "code",
   "execution_count": 4,
   "id": "cb98c8c7",
   "metadata": {},
   "outputs": [],
   "source": [
    "# example of a list\n",
    "\n",
    "# assign variable to specified index\n",
    "\n",
    "# multidimensional list\n",
    "\n",
    "# assign variable to index\n"
   ]
  },
  {
   "cell_type": "markdown",
   "id": "9a83c6ad",
   "metadata": {},
   "source": [
    "Python data structures have built in functionality. Documentation for all can be found online. There are also built in functions to perform operations on data types."
   ]
  },
  {
   "cell_type": "code",
   "execution_count": 5,
   "id": "126440dc",
   "metadata": {},
   "outputs": [],
   "source": [
    "# define list\n",
    "\n",
    "# append a list\n",
    "\n",
    "# 'pop' value from list\n",
    "\n",
    "# copy list\n",
    "\n",
    "# sort list\n"
   ]
  },
  {
   "cell_type": "markdown",
   "id": "65e91efd",
   "metadata": {},
   "source": [
    "### Dictionary\n",
    "\n",
    "Dictionaries use \"key:value\" pairs. This allows you to sort/assign various values to different keys. This is handy for keeping track of data that is related."
   ]
  },
  {
   "cell_type": "code",
   "execution_count": 6,
   "id": "b11943fa",
   "metadata": {},
   "outputs": [],
   "source": [
    "# example of a dictionary\n",
    "\n",
    "# add value to dictionary\n",
    "\n",
    "# assign variable to key's value\n"
   ]
  },
  {
   "cell_type": "markdown",
   "id": "fe66e08a",
   "metadata": {},
   "source": [
    "Dictionaries also have built in methods which allow for ease of use/manipulation."
   ]
  },
  {
   "cell_type": "code",
   "execution_count": 7,
   "id": "09b4f030",
   "metadata": {},
   "outputs": [],
   "source": [
    "# pop value using key\n",
    "\n",
    "# pop value that does not exist\n",
    "\n",
    "# return copy of dictionary"
   ]
  }
 ],
 "metadata": {
  "kernelspec": {
   "display_name": "Python 3 (ipykernel)",
   "language": "python",
   "name": "python3"
  },
  "language_info": {
   "codemirror_mode": {
    "name": "ipython",
    "version": 3
   },
   "file_extension": ".py",
   "mimetype": "text/x-python",
   "name": "python",
   "nbconvert_exporter": "python",
   "pygments_lexer": "ipython3",
   "version": "3.9.7"
  }
 },
 "nbformat": 4,
 "nbformat_minor": 5
}
