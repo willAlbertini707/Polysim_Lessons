{
 "cells": [
  {
   "cell_type": "markdown",
   "id": "9926c81c",
   "metadata": {},
   "source": [
    "# Python Basics\n",
    "\n",
    "This notebook was created to teach the basics of python. Topics covered, but not limited to, will be:\n",
    "\n",
    "- data types\n",
    "- simple data structures\n",
    "- iterables\n",
    "- importing modules\n",
    "- functions\n",
    "\n",
    "## Simple Data Types\n",
    "\n",
    "The basic python data types most commonly used are strings, integers, and floats. There are much more (such as sets, complex, ...etc) but the majority of your programming will concern these basic types. "
   ]
  },
  {
   "cell_type": "code",
   "execution_count": 13,
   "id": "ccce1fad",
   "metadata": {},
   "outputs": [],
   "source": [
    "# example of a string\n",
    "\n",
    "# example of an integer\n",
    "\n",
    "# example of a float\n"
   ]
  },
  {
   "cell_type": "markdown",
   "id": "51086519",
   "metadata": {},
   "source": [
    "Variables do not need \"types\" when declared. Variables point to a range of different values from integers to functions to objects. To display a variable to the console, the built in \"print\" function is used."
   ]
  },
  {
   "cell_type": "code",
   "execution_count": 14,
   "id": "df90b3c8",
   "metadata": {},
   "outputs": [],
   "source": [
    "# print the value of the variable\n",
    "\n",
    "# print the type of the variable\n",
    "\n",
    "# imbed variable into text\n"
   ]
  },
  {
   "cell_type": "markdown",
   "id": "4b0922b5",
   "metadata": {},
   "source": [
    "Simple operations can be performed with each of these data types."
   ]
  },
  {
   "cell_type": "code",
   "execution_count": 3,
   "id": "7e7f0123",
   "metadata": {},
   "outputs": [],
   "source": [
    "# mathmatic operations\n",
    "\n",
    "# mathmatic operation to concatenate string\n",
    "\n",
    "# built in string methods\n"
   ]
  },
  {
   "cell_type": "markdown",
   "id": "b2d37e43",
   "metadata": {},
   "source": [
    "## Data Structures\n",
    "\n",
    "Data structures are used for storing data. They are assigned to variables with the \"=\" operator, just like in the examples above. The basic structures are strings, lists, tuples, and dictionaries. \n",
    "\n",
    "### Lists\n",
    "\n",
    "A list is ordered so index matters. It is an iterable data structure and can be indexed. Python uses zero indexing. Lists can store an array of data types including another list."
   ]
  },
  {
   "cell_type": "code",
   "execution_count": 16,
   "id": "cb98c8c7",
   "metadata": {},
   "outputs": [],
   "source": [
    "# example of a list\n",
    "\n",
    "# assign variable to specified index\n",
    "\n",
    "# multidimensional list\n",
    "\n",
    "# assign variable to index\n"
   ]
  },
  {
   "cell_type": "markdown",
   "id": "9a83c6ad",
   "metadata": {},
   "source": [
    "Python data structures have built in functionality. Documentation for all can be found online. There are also built in functions to perform operations on data types."
   ]
  },
  {
   "cell_type": "code",
   "execution_count": 6,
   "id": "126440dc",
   "metadata": {},
   "outputs": [
    {
     "data": {
      "text/plain": [
       "[6, 5, 4, 3]"
      ]
     },
     "execution_count": 6,
     "metadata": {},
     "output_type": "execute_result"
    }
   ],
   "source": [
    "# define list\n",
    "\n",
    "# append a list\n",
    "\n",
    "# 'pop' value from list\n",
    "\n",
    "# copy list\n",
    "\n",
    "# sort list\n"
   ]
  },
  {
   "cell_type": "markdown",
   "id": "65e91efd",
   "metadata": {},
   "source": [
    "### Dictionary\n",
    "\n",
    "Dictionaries use \"key:value\" pairs. This allows you to sort/assign various values to different keys. This is handy for keeping track of data that is related."
   ]
  },
  {
   "cell_type": "code",
   "execution_count": 18,
   "id": "b11943fa",
   "metadata": {},
   "outputs": [],
   "source": [
    "# example of a dictionary\n",
    "\n",
    "# add value to dictionary\n",
    "\n",
    "# assign variable to key's value\n"
   ]
  },
  {
   "cell_type": "markdown",
   "id": "fe66e08a",
   "metadata": {},
   "source": [
    "Dictionaries also have built in methods which allow for ease of use/manipulation."
   ]
  },
  {
   "cell_type": "code",
   "execution_count": 19,
   "id": "09b4f030",
   "metadata": {},
   "outputs": [],
   "source": [
    "# pop value using key\n",
    "\n",
    "# pop value that does not exist\n",
    "\n",
    "# return copy of dictionary\n"
   ]
  },
  {
   "cell_type": "markdown",
   "id": "4544caf2",
   "metadata": {},
   "source": [
    "### Tuples\n",
    "\n",
    "Tuples behave like a list in terms of use/operation. The difference is they are immutable and cannot be changed after assignment"
   ]
  },
  {
   "cell_type": "code",
   "execution_count": 20,
   "id": "ebb7117e",
   "metadata": {},
   "outputs": [],
   "source": [
    "# define a tuple\n",
    "\n",
    "\n",
    "# try to assign new value to index\n",
    "# try:\n",
    "#     my_tuple[0] = 8\n",
    "# except Exception as err:\n",
    "#     print(err)\n",
    "#     print(f\"Cannot mutate tuple. Tuple remains {my_tuple}\")"
   ]
  },
  {
   "cell_type": "markdown",
   "id": "16c59084",
   "metadata": {},
   "source": [
    "## Iterables\n",
    "\n",
    "Iterables are objects that can return individual members. They can be iterated through using a 'for' loop. One example of an iterable is a list."
   ]
  },
  {
   "cell_type": "code",
   "execution_count": 13,
   "id": "e26283ee",
   "metadata": {},
   "outputs": [],
   "source": [
    "# iterate through list and print out values\n"
   ]
  },
  {
   "cell_type": "markdown",
   "id": "46cffe64",
   "metadata": {},
   "source": [
    "Python has many examples of iterables from generators to ranges. Some of the commonly used ones are demonstrated below."
   ]
  },
  {
   "cell_type": "code",
   "execution_count": 22,
   "id": "c83f49fb",
   "metadata": {},
   "outputs": [],
   "source": [
    "# example of using range\n",
    "\n",
    "# example of dictionary iterable methods\n"
   ]
  },
  {
   "cell_type": "markdown",
   "id": "acc1b325",
   "metadata": {},
   "source": [
    "## Importing modules\n",
    "\n",
    "Python is open source and along with that has support from lots of different creators. This allows for the creation of libraries that free to use and maintained by dedicated teams. The best library for linear algebra operations is Numpy. Modules can be imported and incorporated into code under an alias. "
   ]
  },
  {
   "cell_type": "code",
   "execution_count": 23,
   "id": "fb864fcc",
   "metadata": {},
   "outputs": [],
   "source": [
    "# import numpy module using 'np' alias\n",
    "\n",
    "# create an instance of numpy object 'array'\n"
   ]
  },
  {
   "cell_type": "markdown",
   "id": "d50dc512",
   "metadata": {},
   "source": [
    "## Functions\n",
    "\n",
    "Python allows for easy creation of modular coding. This allows developers to split large blocks of single use code into smaller blocks that accomplish the same task and are re-usable. The following function will be implemented into python code using two methods:\n",
    "\n",
    "$f(x) = x^2 + 3$"
   ]
  },
  {
   "cell_type": "code",
   "execution_count": 24,
   "id": "c8c173d4",
   "metadata": {},
   "outputs": [],
   "source": [
    "# create normal function\n",
    "\n",
    "# create a lambda function\n"
   ]
  },
  {
   "cell_type": "markdown",
   "id": "27b5a9bd",
   "metadata": {},
   "source": [
    "Functions have lots of utility in Python. They can be nested, stored in data structures, incorporated in objects, and used in a wide variety of other applications. Building reusable functionality into code is the basis of object oriented programming."
   ]
  }
 ],
 "metadata": {
  "kernelspec": {
   "display_name": "Python 3 (ipykernel)",
   "language": "python",
   "name": "python3"
  },
  "language_info": {
   "codemirror_mode": {
    "name": "ipython",
    "version": 3
   },
   "file_extension": ".py",
   "mimetype": "text/x-python",
   "name": "python",
   "nbconvert_exporter": "python",
   "pygments_lexer": "ipython3",
   "version": "3.9.7"
  }
 },
 "nbformat": 4,
 "nbformat_minor": 5
}
